{
 "cells": [
  {
   "cell_type": "markdown",
   "id": "c590a2bc-9e39-40b8-ad10-bb811b276125",
   "metadata": {},
   "source": [
    "# 1 - Rule based sentiment analysis"
   ]
  },
  {
   "cell_type": "code",
   "execution_count": 1,
   "id": "c70ec346-cce0-44f4-97e6-f1dd450e6cc4",
   "metadata": {},
   "outputs": [],
   "source": [
    "from textblob import TextBlob"
   ]
  },
  {
   "cell_type": "markdown",
   "id": "86bd4093-a8bc-4e6b-bb16-cf2bd6a45e91",
   "metadata": {},
   "source": [
    "## TextBlob"
   ]
  },
  {
   "cell_type": "markdown",
   "id": "e28e1f9d-7ebd-48ce-8751-48b456228eda",
   "metadata": {},
   "source": [
    "Built on top of NLTK & Pattern libraries.\n",
    "\n",
    "Uses a bag-of-words + machine learning + lexicon-based approach.\n",
    "Sentiment is derived from a polarity lexicon and simple NLP preprocessing.\n",
    "\n",
    "Output:\n",
    "Two values: polarity (–1 to +1) and subjectivity (0 to 1)."
   ]
  },
  {
   "cell_type": "code",
   "execution_count": 2,
   "id": "da05b942-441e-456a-bd3a-c0d4d17d0fda",
   "metadata": {},
   "outputs": [],
   "source": [
    "sentence_1 = \"i had a great time at the movie it was really funny\"\n",
    "sentence_2 = \"i had a great time at the movie but the parking was terrible\"\n",
    "sentence_3 = \"i had a great time at the movie but the parking wasn't great\"\n",
    "sentence_4 = \"i went to see a movie\""
   ]
  },
  {
   "cell_type": "code",
   "execution_count": 3,
   "id": "c128d442-449b-45fb-b30c-8adb812b63d3",
   "metadata": {},
   "outputs": [
    {
     "name": "stdout",
     "output_type": "stream",
     "text": [
      "i had a great time at the movie it was really funny\n",
      "0.525\n"
     ]
    }
   ],
   "source": [
    "print(sentence_1)\n",
    "sentiment_score = TextBlob(sentence_1)\n",
    "print(sentiment_score.sentiment.polarity)"
   ]
  },
  {
   "cell_type": "markdown",
   "id": "9683d9a1-c77a-45b3-89b0-9e7522ce0678",
   "metadata": {},
   "source": [
    "TextBlob returns a score between -1 and 1, where negative scores indicate negative sentiment, and positive scores indicate positive sentiment."
   ]
  },
  {
   "cell_type": "code",
   "execution_count": 4,
   "id": "61e336d4-b5fb-43a0-9fad-efa3442d17ac",
   "metadata": {},
   "outputs": [
    {
     "name": "stdout",
     "output_type": "stream",
     "text": [
      "i had a great time at the movie but the parking was terrible\n",
      "-0.09999999999999998\n"
     ]
    }
   ],
   "source": [
    "print(sentence_2)\n",
    "sentiment_score = TextBlob(sentence_2)\n",
    "print(sentiment_score.sentiment.polarity)"
   ]
  },
  {
   "cell_type": "code",
   "execution_count": 5,
   "id": "30e25dea-bfb1-4405-b757-33d5a4dc1c12",
   "metadata": {},
   "outputs": [
    {
     "name": "stdout",
     "output_type": "stream",
     "text": [
      "i had a great time at the movie but the parking wasn't great\n",
      "0.8\n"
     ]
    }
   ],
   "source": [
    "print(sentence_3)\n",
    "sentiment_score = TextBlob(sentence_3)\n",
    "print(sentiment_score.sentiment.polarity)"
   ]
  },
  {
   "cell_type": "code",
   "execution_count": 6,
   "id": "35a512d7-fa99-4834-b99a-eb47aac78be7",
   "metadata": {},
   "outputs": [
    {
     "name": "stdout",
     "output_type": "stream",
     "text": [
      "i went to see a movie\n",
      "0.0\n"
     ]
    }
   ],
   "source": [
    "print(sentence_4)\n",
    "sentiment_score = TextBlob(sentence_4)\n",
    "print(sentiment_score.sentiment.polarity)"
   ]
  },
  {
   "cell_type": "markdown",
   "id": "77eb2597-941c-4a42-8328-4a8feae45979",
   "metadata": {},
   "source": [
    "## Vader"
   ]
  },
  {
   "cell_type": "markdown",
   "id": "d0f2fa90-3711-41b5-8964-899c2064ed4d",
   "metadata": {},
   "source": [
    "VADER (Valence Aware Dictionary and sEntiment Reasoner)\n",
    "\n",
    "Designed for social media / short texts (tweets, reviews, comments).\n",
    "\n",
    "Lexicon + rule-based model:\n",
    "Comes with a predefined dictionary of words → each word has an intensity score.\n",
    "Also accounts for punctuation, capitalization, degree modifiers (very good, !!!, NOT good).\n",
    "\n",
    "Output:\n",
    "Returns 4 scores: pos, neu, neg, and compound (a normalized overall sentiment)."
   ]
  },
  {
   "cell_type": "code",
   "execution_count": 8,
   "id": "5d4113ae-527c-4e66-a371-ab475f93598e",
   "metadata": {},
   "outputs": [],
   "source": [
    "from vaderSentiment.vaderSentiment import SentimentIntensityAnalyzer"
   ]
  },
  {
   "cell_type": "code",
   "execution_count": 9,
   "id": "161c6592-f564-4ac1-84a7-ba35c5d5b7a4",
   "metadata": {},
   "outputs": [],
   "source": [
    "vader_sentiment = SentimentIntensityAnalyzer()"
   ]
  },
  {
   "cell_type": "code",
   "execution_count": 10,
   "id": "04349030-1994-4dd6-ba2d-4b48212798c6",
   "metadata": {},
   "outputs": [
    {
     "name": "stdout",
     "output_type": "stream",
     "text": [
      "i had a great time at the movie it was really funny\n",
      "{'neg': 0.0, 'neu': 0.578, 'pos': 0.422, 'compound': 0.807}\n"
     ]
    }
   ],
   "source": [
    "print(sentence_1)\n",
    "print(vader_sentiment.polarity_scores(sentence_1))"
   ]
  },
  {
   "cell_type": "code",
   "execution_count": 11,
   "id": "696fb2e4-2900-4dc8-a979-2ed42240d4de",
   "metadata": {},
   "outputs": [
    {
     "name": "stdout",
     "output_type": "stream",
     "text": [
      "i had a great time at the movie but the parking was terrible\n",
      "{'neg': 0.234, 'neu': 0.621, 'pos': 0.144, 'compound': -0.3818}\n"
     ]
    }
   ],
   "source": [
    "print(sentence_2)\n",
    "print(vader_sentiment.polarity_scores(sentence_2))"
   ]
  },
  {
   "cell_type": "code",
   "execution_count": 12,
   "id": "c241163a-6347-499a-af4a-94d32e65bbe6",
   "metadata": {},
   "outputs": [
    {
     "name": "stdout",
     "output_type": "stream",
     "text": [
      "i had a great time at the movie but the parking wasn't great\n",
      "{'neg': 0.247, 'neu': 0.611, 'pos': 0.142, 'compound': -0.4387}\n"
     ]
    }
   ],
   "source": [
    "print(sentence_3)\n",
    "print(vader_sentiment.polarity_scores(sentence_3))"
   ]
  },
  {
   "cell_type": "code",
   "execution_count": 13,
   "id": "a3b71c3f-6bb8-4910-88db-172654932ac9",
   "metadata": {},
   "outputs": [
    {
     "name": "stdout",
     "output_type": "stream",
     "text": [
      "i went to see a movie\n",
      "{'neg': 0.0, 'neu': 1.0, 'pos': 0.0, 'compound': 0.0}\n"
     ]
    }
   ],
   "source": [
    "print(sentence_4)\n",
    "print(vader_sentiment.polarity_scores(sentence_4))"
   ]
  },
  {
   "cell_type": "markdown",
   "id": "1db2ae1e-10c2-4429-9b8e-c889f01e6748",
   "metadata": {},
   "source": []
  },
  {
   "cell_type": "markdown",
   "id": "e584bcf4-0de7-4663-a45c-4fb43d5a1e9b",
   "metadata": {},
   "source": [
    "## Pre-trained transformers"
   ]
  },
  {
   "cell_type": "code",
   "execution_count": 14,
   "id": "0455efdb-f6b8-4c54-ac37-c5b28f8a9637",
   "metadata": {},
   "outputs": [],
   "source": [
    "import transformers\n",
    "from transformers import pipeline"
   ]
  },
  {
   "cell_type": "code",
   "execution_count": 15,
   "id": "fb986868-0b22-490b-82e0-581f3799f5fc",
   "metadata": {},
   "outputs": [
    {
     "name": "stderr",
     "output_type": "stream",
     "text": [
      "No model was supplied, defaulted to distilbert/distilbert-base-uncased-finetuned-sst-2-english and revision 714eb0f (https://huggingface.co/distilbert/distilbert-base-uncased-finetuned-sst-2-english).\n",
      "Using a pipeline without specifying a model name and revision in production is not recommended.\n"
     ]
    },
    {
     "data": {
      "application/vnd.jupyter.widget-view+json": {
       "model_id": "4581afa30f6448e9b19bc444d1af2ac9",
       "version_major": 2,
       "version_minor": 0
      },
      "text/plain": [
       "config.json:   0%|          | 0.00/629 [00:00<?, ?B/s]"
      ]
     },
     "metadata": {},
     "output_type": "display_data"
    },
    {
     "data": {
      "application/vnd.jupyter.widget-view+json": {
       "model_id": "1060940ec84e483e94f52f0f3b24fb24",
       "version_major": 2,
       "version_minor": 0
      },
      "text/plain": [
       "model.safetensors:   0%|          | 0.00/268M [00:00<?, ?B/s]"
      ]
     },
     "metadata": {},
     "output_type": "display_data"
    },
    {
     "data": {
      "application/vnd.jupyter.widget-view+json": {
       "model_id": "25a33bdd5bb84c5fbea08cde31064d1b",
       "version_major": 2,
       "version_minor": 0
      },
      "text/plain": [
       "tokenizer_config.json:   0%|          | 0.00/48.0 [00:00<?, ?B/s]"
      ]
     },
     "metadata": {},
     "output_type": "display_data"
    },
    {
     "data": {
      "application/vnd.jupyter.widget-view+json": {
       "model_id": "961915612f964aa08658ee1143ea535f",
       "version_major": 2,
       "version_minor": 0
      },
      "text/plain": [
       "vocab.txt: 0.00B [00:00, ?B/s]"
      ]
     },
     "metadata": {},
     "output_type": "display_data"
    },
    {
     "name": "stderr",
     "output_type": "stream",
     "text": [
      "Device set to use mps:0\n"
     ]
    }
   ],
   "source": [
    "sentiment_pipeline = pipeline('sentiment-analysis')"
   ]
  },
  {
   "cell_type": "code",
   "execution_count": 16,
   "id": "d8d5372f-42e0-4fce-9aa9-b706b8d5708e",
   "metadata": {},
   "outputs": [
    {
     "name": "stdout",
     "output_type": "stream",
     "text": [
      "i had a great time at the movie it was really funny\n",
      "[{'label': 'POSITIVE', 'score': 0.9998176693916321}]\n"
     ]
    }
   ],
   "source": [
    "print(sentence_1)\n",
    "print(sentiment_pipeline(sentence_1))"
   ]
  },
  {
   "cell_type": "code",
   "execution_count": 17,
   "id": "4c30bb37-28f7-486f-a16a-2ce2b076d1cc",
   "metadata": {},
   "outputs": [
    {
     "name": "stdout",
     "output_type": "stream",
     "text": [
      "i had a great time at the movie but the parking was terrible\n",
      "[{'label': 'NEGATIVE', 'score': 0.9977464079856873}]\n"
     ]
    }
   ],
   "source": [
    "print(sentence_2)\n",
    "print(sentiment_pipeline(sentence_2))"
   ]
  },
  {
   "cell_type": "code",
   "execution_count": 18,
   "id": "d901ca12-3058-4436-87af-c019e5579516",
   "metadata": {},
   "outputs": [
    {
     "name": "stdout",
     "output_type": "stream",
     "text": [
      "i had a great time at the movie but the parking wasn't great\n",
      "[{'label': 'NEGATIVE', 'score': 0.9984902143478394}]\n"
     ]
    }
   ],
   "source": [
    "print(sentence_3)\n",
    "print(sentiment_pipeline(sentence_3))"
   ]
  },
  {
   "cell_type": "code",
   "execution_count": 19,
   "id": "1eb9be39-3ea1-484c-b607-b1447a7bab03",
   "metadata": {},
   "outputs": [
    {
     "name": "stdout",
     "output_type": "stream",
     "text": [
      "i went to see a movie\n",
      "[{'label': 'POSITIVE', 'score': 0.9802700281143188}]\n"
     ]
    }
   ],
   "source": [
    "print(sentence_4)\n",
    "print(sentiment_pipeline(sentence_4))"
   ]
  },
  {
   "cell_type": "markdown",
   "id": "6a74003c-448b-4158-b4a7-4068f979c087",
   "metadata": {},
   "source": [
    "The default model isn't giving us great results for our neutral sentence. However there are loads of models we can choose to use that have been trained on different data with different parameters: https://huggingface.co/models?pipeline_tag=text-classification&sort=downloads&search=sentiment\n",
    "\n",
    "Let's try a specific model trained on tweets in the English language only and see if that improves our results."
   ]
  },
  {
   "cell_type": "code",
   "execution_count": 20,
   "id": "c17a3ab2-55f6-4110-ba3d-d6a51eeddf46",
   "metadata": {},
   "outputs": [
    {
     "data": {
      "application/vnd.jupyter.widget-view+json": {
       "model_id": "699ea69b9c9d48e7b0b4bd9b96f7ac4e",
       "version_major": 2,
       "version_minor": 0
      },
      "text/plain": [
       "config.json:   0%|          | 0.00/949 [00:00<?, ?B/s]"
      ]
     },
     "metadata": {},
     "output_type": "display_data"
    },
    {
     "data": {
      "application/vnd.jupyter.widget-view+json": {
       "model_id": "e20aa4a91939474db4bd01cead5dfd09",
       "version_major": 2,
       "version_minor": 0
      },
      "text/plain": [
       "pytorch_model.bin:   0%|          | 0.00/540M [00:00<?, ?B/s]"
      ]
     },
     "metadata": {},
     "output_type": "display_data"
    },
    {
     "name": "stderr",
     "output_type": "stream",
     "text": [
      "huggingface/tokenizers: The current process just got forked, after parallelism has already been used. Disabling parallelism to avoid deadlocks...\n",
      "To disable this warning, you can either:\n",
      "\t- Avoid using `tokenizers` before the fork if possible\n",
      "\t- Explicitly set the environment variable TOKENIZERS_PARALLELISM=(true | false)\n"
     ]
    },
    {
     "data": {
      "application/vnd.jupyter.widget-view+json": {
       "model_id": "0b55603e084146a8970a2c3ae2f38cb1",
       "version_major": 2,
       "version_minor": 0
      },
      "text/plain": [
       "tokenizer_config.json:   0%|          | 0.00/338 [00:00<?, ?B/s]"
      ]
     },
     "metadata": {},
     "output_type": "display_data"
    },
    {
     "data": {
      "application/vnd.jupyter.widget-view+json": {
       "model_id": "27b51eb89fc349eca495a12393cf6688",
       "version_major": 2,
       "version_minor": 0
      },
      "text/plain": [
       "vocab.txt: 0.00B [00:00, ?B/s]"
      ]
     },
     "metadata": {},
     "output_type": "display_data"
    },
    {
     "data": {
      "application/vnd.jupyter.widget-view+json": {
       "model_id": "f51eb310f30f473d8fd94273ba125e01",
       "version_major": 2,
       "version_minor": 0
      },
      "text/plain": [
       "bpe.codes: 0.00B [00:00, ?B/s]"
      ]
     },
     "metadata": {},
     "output_type": "display_data"
    },
    {
     "data": {
      "application/vnd.jupyter.widget-view+json": {
       "model_id": "8a7ba3612eca4ae2a512896bb528365b",
       "version_major": 2,
       "version_minor": 0
      },
      "text/plain": [
       "added_tokens.json:   0%|          | 0.00/22.0 [00:00<?, ?B/s]"
      ]
     },
     "metadata": {},
     "output_type": "display_data"
    },
    {
     "data": {
      "application/vnd.jupyter.widget-view+json": {
       "model_id": "9d69985016e249fabb454bac1d009176",
       "version_major": 2,
       "version_minor": 0
      },
      "text/plain": [
       "special_tokens_map.json:   0%|          | 0.00/167 [00:00<?, ?B/s]"
      ]
     },
     "metadata": {},
     "output_type": "display_data"
    },
    {
     "name": "stderr",
     "output_type": "stream",
     "text": [
      "emoji is not installed, thus not converting emoticons or emojis into text. Install emoji: pip3 install emoji==0.6.0\n",
      "Device set to use mps:0\n"
     ]
    }
   ],
   "source": [
    "specific_model = pipeline(\"sentiment-analysis\", model=\"finiteautomata/bertweet-base-sentiment-analysis\")"
   ]
  },
  {
   "cell_type": "code",
   "execution_count": 21,
   "id": "b0fd0bf3-e8bf-43ee-a567-bf8d6eb07788",
   "metadata": {},
   "outputs": [
    {
     "name": "stdout",
     "output_type": "stream",
     "text": [
      "i had a great time at the movie it was really funny\n"
     ]
    },
    {
     "data": {
      "text/plain": [
       "[{'label': 'POS', 'score': 0.9923344254493713}]"
      ]
     },
     "execution_count": 21,
     "metadata": {},
     "output_type": "execute_result"
    }
   ],
   "source": [
    "print(sentence_1)\n",
    "specific_model(sentence_1)"
   ]
  },
  {
   "cell_type": "code",
   "execution_count": 22,
   "id": "a4232ed0-fca7-412a-9d6b-d80fd470eff4",
   "metadata": {},
   "outputs": [
    {
     "name": "stdout",
     "output_type": "stream",
     "text": [
      "i had a great time at the movie but the parking was terrible\n"
     ]
    },
    {
     "data": {
      "text/plain": [
       "[{'label': 'NEG', 'score': 0.5355544686317444}]"
      ]
     },
     "execution_count": 22,
     "metadata": {},
     "output_type": "execute_result"
    }
   ],
   "source": [
    "print(sentence_2)\n",
    "specific_model(sentence_2)"
   ]
  },
  {
   "cell_type": "code",
   "execution_count": 23,
   "id": "51cfe3f3-7606-4a90-a8cc-23d2e71146f0",
   "metadata": {},
   "outputs": [
    {
     "name": "stdout",
     "output_type": "stream",
     "text": [
      "i had a great time at the movie but the parking wasn't great\n"
     ]
    },
    {
     "data": {
      "text/plain": [
       "[{'label': 'POS', 'score': 0.6234409213066101}]"
      ]
     },
     "execution_count": 23,
     "metadata": {},
     "output_type": "execute_result"
    }
   ],
   "source": [
    "print(sentence_3)\n",
    "specific_model(sentence_3)"
   ]
  },
  {
   "cell_type": "code",
   "execution_count": 24,
   "id": "4729435f-6c85-4276-902d-2c83766a1516",
   "metadata": {},
   "outputs": [
    {
     "name": "stdout",
     "output_type": "stream",
     "text": [
      "i went to see a movie\n"
     ]
    },
    {
     "data": {
      "text/plain": [
       "[{'label': 'NEU', 'score': 0.9007406830787659}]"
      ]
     },
     "execution_count": 24,
     "metadata": {},
     "output_type": "execute_result"
    }
   ],
   "source": [
    "print(sentence_4)\n",
    "specific_model(sentence_4)"
   ]
  },
  {
   "cell_type": "markdown",
   "id": "b879cf93-a07f-4611-9b13-cf9515610ca2",
   "metadata": {},
   "source": []
  },
  {
   "cell_type": "markdown",
   "id": "06b98241-7b8d-4d12-b681-30a352924229",
   "metadata": {},
   "source": [
    "# Practical"
   ]
  },
  {
   "cell_type": "code",
   "execution_count": 25,
   "id": "49bc1716-ca79-4d14-8c6d-606fe8f7bc30",
   "metadata": {},
   "outputs": [],
   "source": [
    "import pandas as pd\n",
    "import numpy as np\n",
    "import re\n",
    "# import vadersentiment, it's already imported at the top\n",
    "# import transforemers, it's already imported"
   ]
  },
  {
   "cell_type": "code",
   "execution_count": 26,
   "id": "a133aa27-c994-4794-b526-7815c40168e0",
   "metadata": {},
   "outputs": [
    {
     "data": {
      "text/html": [
       "<div>\n",
       "<style scoped>\n",
       "    .dataframe tbody tr th:only-of-type {\n",
       "        vertical-align: middle;\n",
       "    }\n",
       "\n",
       "    .dataframe tbody tr th {\n",
       "        vertical-align: top;\n",
       "    }\n",
       "\n",
       "    .dataframe thead th {\n",
       "        text-align: right;\n",
       "    }\n",
       "</style>\n",
       "<table border=\"1\" class=\"dataframe\">\n",
       "  <thead>\n",
       "    <tr style=\"text-align: right;\">\n",
       "      <th></th>\n",
       "      <th>index</th>\n",
       "      <th>reviewText</th>\n",
       "      <th>rating</th>\n",
       "    </tr>\n",
       "  </thead>\n",
       "  <tbody>\n",
       "    <tr>\n",
       "      <th>0</th>\n",
       "      <td>11494</td>\n",
       "      <td>Clean and funny. A bit busy with all the diffe...</td>\n",
       "      <td>3</td>\n",
       "    </tr>\n",
       "    <tr>\n",
       "      <th>1</th>\n",
       "      <td>984</td>\n",
       "      <td>Alex a sexy hot cop and the PhD candidate. Wha...</td>\n",
       "      <td>4</td>\n",
       "    </tr>\n",
       "    <tr>\n",
       "      <th>2</th>\n",
       "      <td>1463</td>\n",
       "      <td>Good thing that this is a free story. I read i...</td>\n",
       "      <td>1</td>\n",
       "    </tr>\n",
       "    <tr>\n",
       "      <th>3</th>\n",
       "      <td>10342</td>\n",
       "      <td>Action, action, action! Equipment keeps gettin...</td>\n",
       "      <td>4</td>\n",
       "    </tr>\n",
       "    <tr>\n",
       "      <th>4</th>\n",
       "      <td>5256</td>\n",
       "      <td>this was hands down the worse book i have ever...</td>\n",
       "      <td>1</td>\n",
       "    </tr>\n",
       "  </tbody>\n",
       "</table>\n",
       "</div>"
      ],
      "text/plain": [
       "   index                                         reviewText  rating\n",
       "0  11494  Clean and funny. A bit busy with all the diffe...       3\n",
       "1    984  Alex a sexy hot cop and the PhD candidate. Wha...       4\n",
       "2   1463  Good thing that this is a free story. I read i...       1\n",
       "3  10342  Action, action, action! Equipment keeps gettin...       4\n",
       "4   5256  this was hands down the worse book i have ever...       1"
      ]
     },
     "execution_count": 26,
     "metadata": {},
     "output_type": "execute_result"
    }
   ],
   "source": [
    "data = pd.read_csv('assets/book_reviews_sample.csv')\n",
    "data.head()"
   ]
  },
  {
   "cell_type": "code",
   "execution_count": 27,
   "id": "b48178db-f4ba-4082-aa33-074de02fa98e",
   "metadata": {},
   "outputs": [
    {
     "name": "stdout",
     "output_type": "stream",
     "text": [
      "<class 'pandas.core.frame.DataFrame'>\n",
      "RangeIndex: 100 entries, 0 to 99\n",
      "Data columns (total 3 columns):\n",
      " #   Column      Non-Null Count  Dtype \n",
      "---  ------      --------------  ----- \n",
      " 0   index       100 non-null    int64 \n",
      " 1   reviewText  100 non-null    object\n",
      " 2   rating      100 non-null    int64 \n",
      "dtypes: int64(2), object(1)\n",
      "memory usage: 2.5+ KB\n"
     ]
    }
   ],
   "source": [
    "data.info()"
   ]
  },
  {
   "cell_type": "code",
   "execution_count": 28,
   "id": "afea7688-88cb-40a1-98c2-cd346e0e8cf4",
   "metadata": {},
   "outputs": [],
   "source": [
    "# lowercase\n",
    "data['reviewText_clean'] = data['reviewText'].str.lower()"
   ]
  },
  {
   "cell_type": "code",
   "execution_count": 29,
   "id": "ae80a8a3-d59f-4398-a328-519f76cc7fd5",
   "metadata": {},
   "outputs": [],
   "source": [
    "# remove punctuation\n",
    "data['reviewText_clean'] = data.apply(lambda x: re.sub(r\"([^\\w\\s])\", \"\", x['reviewText_clean']), axis=1)"
   ]
  },
  {
   "cell_type": "markdown",
   "id": "cebbefe3-8695-4de6-9afd-feb891d8e1fb",
   "metadata": {},
   "source": [
    "## Rule-based sentiment with VADER"
   ]
  },
  {
   "cell_type": "code",
   "execution_count": 30,
   "id": "76d8ea67-4137-4a69-8f4c-16cccb4ef7ee",
   "metadata": {},
   "outputs": [],
   "source": [
    "vader_sentiment = SentimentIntensityAnalyzer()"
   ]
  },
  {
   "cell_type": "code",
   "execution_count": 32,
   "id": "92799a07-e394-42f4-b8a6-735beb75773f",
   "metadata": {},
   "outputs": [
    {
     "data": {
      "text/html": [
       "<div>\n",
       "<style scoped>\n",
       "    .dataframe tbody tr th:only-of-type {\n",
       "        vertical-align: middle;\n",
       "    }\n",
       "\n",
       "    .dataframe tbody tr th {\n",
       "        vertical-align: top;\n",
       "    }\n",
       "\n",
       "    .dataframe thead th {\n",
       "        text-align: right;\n",
       "    }\n",
       "</style>\n",
       "<table border=\"1\" class=\"dataframe\">\n",
       "  <thead>\n",
       "    <tr style=\"text-align: right;\">\n",
       "      <th></th>\n",
       "      <th>index</th>\n",
       "      <th>reviewText</th>\n",
       "      <th>rating</th>\n",
       "      <th>reviewText_clean</th>\n",
       "      <th>vader_sentiment_score</th>\n",
       "    </tr>\n",
       "  </thead>\n",
       "  <tbody>\n",
       "    <tr>\n",
       "      <th>0</th>\n",
       "      <td>11494</td>\n",
       "      <td>Clean and funny. A bit busy with all the diffe...</td>\n",
       "      <td>3</td>\n",
       "      <td>clean and funny a bit busy with all the differ...</td>\n",
       "      <td>0.7684</td>\n",
       "    </tr>\n",
       "    <tr>\n",
       "      <th>1</th>\n",
       "      <td>984</td>\n",
       "      <td>Alex a sexy hot cop and the PhD candidate. Wha...</td>\n",
       "      <td>4</td>\n",
       "      <td>alex a sexy hot cop and the phd candidate what...</td>\n",
       "      <td>0.9325</td>\n",
       "    </tr>\n",
       "    <tr>\n",
       "      <th>2</th>\n",
       "      <td>1463</td>\n",
       "      <td>Good thing that this is a free story. I read i...</td>\n",
       "      <td>1</td>\n",
       "      <td>good thing that this is a free story i read it...</td>\n",
       "      <td>0.6740</td>\n",
       "    </tr>\n",
       "    <tr>\n",
       "      <th>3</th>\n",
       "      <td>10342</td>\n",
       "      <td>Action, action, action! Equipment keeps gettin...</td>\n",
       "      <td>4</td>\n",
       "      <td>action action action equipment keeps getting b...</td>\n",
       "      <td>0.6652</td>\n",
       "    </tr>\n",
       "    <tr>\n",
       "      <th>4</th>\n",
       "      <td>5256</td>\n",
       "      <td>this was hands down the worse book i have ever...</td>\n",
       "      <td>1</td>\n",
       "      <td>this was hands down the worse book i have ever...</td>\n",
       "      <td>-0.4767</td>\n",
       "    </tr>\n",
       "    <tr>\n",
       "      <th>...</th>\n",
       "      <td>...</td>\n",
       "      <td>...</td>\n",
       "      <td>...</td>\n",
       "      <td>...</td>\n",
       "      <td>...</td>\n",
       "    </tr>\n",
       "    <tr>\n",
       "      <th>95</th>\n",
       "      <td>1794</td>\n",
       "      <td>Love this author. I have read most of her book...</td>\n",
       "      <td>5</td>\n",
       "      <td>love this author i have read most of her books...</td>\n",
       "      <td>0.7549</td>\n",
       "    </tr>\n",
       "    <tr>\n",
       "      <th>96</th>\n",
       "      <td>6716</td>\n",
       "      <td>This book was not bad! I like the storyline ! ...</td>\n",
       "      <td>2</td>\n",
       "      <td>this book was not bad i like the storyline  th...</td>\n",
       "      <td>0.1877</td>\n",
       "    </tr>\n",
       "    <tr>\n",
       "      <th>97</th>\n",
       "      <td>7372</td>\n",
       "      <td>This is part of a series I read and I loved th...</td>\n",
       "      <td>5</td>\n",
       "      <td>this is part of a series i read and i loved th...</td>\n",
       "      <td>0.5994</td>\n",
       "    </tr>\n",
       "    <tr>\n",
       "      <th>98</th>\n",
       "      <td>5676</td>\n",
       "      <td>Finally a Texas newspaper in Kindle format.Way...</td>\n",
       "      <td>4</td>\n",
       "      <td>finally a texas newspaper in kindle formatway ...</td>\n",
       "      <td>0.1779</td>\n",
       "    </tr>\n",
       "    <tr>\n",
       "      <th>99</th>\n",
       "      <td>7737</td>\n",
       "      <td>TJ and Jon are very HOT in this book.  Christi...</td>\n",
       "      <td>5</td>\n",
       "      <td>tj and jon are very hot in this book  christin...</td>\n",
       "      <td>0.8686</td>\n",
       "    </tr>\n",
       "  </tbody>\n",
       "</table>\n",
       "<p>100 rows × 5 columns</p>\n",
       "</div>"
      ],
      "text/plain": [
       "    index                                         reviewText  rating  \\\n",
       "0   11494  Clean and funny. A bit busy with all the diffe...       3   \n",
       "1     984  Alex a sexy hot cop and the PhD candidate. Wha...       4   \n",
       "2    1463  Good thing that this is a free story. I read i...       1   \n",
       "3   10342  Action, action, action! Equipment keeps gettin...       4   \n",
       "4    5256  this was hands down the worse book i have ever...       1   \n",
       "..    ...                                                ...     ...   \n",
       "95   1794  Love this author. I have read most of her book...       5   \n",
       "96   6716  This book was not bad! I like the storyline ! ...       2   \n",
       "97   7372  This is part of a series I read and I loved th...       5   \n",
       "98   5676  Finally a Texas newspaper in Kindle format.Way...       4   \n",
       "99   7737  TJ and Jon are very HOT in this book.  Christi...       5   \n",
       "\n",
       "                                     reviewText_clean  vader_sentiment_score  \n",
       "0   clean and funny a bit busy with all the differ...                 0.7684  \n",
       "1   alex a sexy hot cop and the phd candidate what...                 0.9325  \n",
       "2   good thing that this is a free story i read it...                 0.6740  \n",
       "3   action action action equipment keeps getting b...                 0.6652  \n",
       "4   this was hands down the worse book i have ever...                -0.4767  \n",
       "..                                                ...                    ...  \n",
       "95  love this author i have read most of her books...                 0.7549  \n",
       "96  this book was not bad i like the storyline  th...                 0.1877  \n",
       "97  this is part of a series i read and i loved th...                 0.5994  \n",
       "98  finally a texas newspaper in kindle formatway ...                 0.1779  \n",
       "99  tj and jon are very hot in this book  christin...                 0.8686  \n",
       "\n",
       "[100 rows x 5 columns]"
      ]
     },
     "execution_count": 32,
     "metadata": {},
     "output_type": "execute_result"
    }
   ],
   "source": [
    "data['vader_sentiment_score'] = data['reviewText_clean'].apply(lambda review: vader_sentiment.polarity_scores(review)['compound'])\n",
    "data"
   ]
  },
  {
   "cell_type": "code",
   "execution_count": 34,
   "id": "152683fe-cbf8-44e8-9c91-3c4ab6cd898f",
   "metadata": {},
   "outputs": [],
   "source": [
    "bins = [-1,-0.1, 0.1,1] # -1 to -0.1 and 0.1 to 1\n",
    "names = ['negative', 'neutral', 'positive']\n",
    "\n",
    "data['vader_sentiment_label'] = pd.cut(data['vader_sentiment_score'], bins, labels=names)"
   ]
  },
  {
   "cell_type": "code",
   "execution_count": 36,
   "id": "d22d65c1-0f19-4ac0-877f-1131bb3388a7",
   "metadata": {},
   "outputs": [
    {
     "data": {
      "text/plain": [
       "<Axes: xlabel='vader_sentiment_label'>"
      ]
     },
     "execution_count": 36,
     "metadata": {},
     "output_type": "execute_result"
    },
    {
     "data": {
      "image/png": "[encoded data removed]",
      "text/plain": [
       "<Figure size 640x480 with 1 Axes>"
      ]
     },
     "metadata": {},
     "output_type": "display_data"
    }
   ],
   "source": [
    "data['vader_sentiment_label'].value_counts().plot.bar()"
   ]
  },
  {
   "cell_type": "code",
   "execution_count": 63,
   "id": "12b2b098-198b-459b-9d61-9eaebbc5ccc1",
   "metadata": {},
   "outputs": [
    {
     "name": "stderr",
     "output_type": "stream",
     "text": [
      "huggingface/tokenizers: The current process just got forked, after parallelism has already been used. Disabling parallelism to avoid deadlocks...\n",
      "To disable this warning, you can either:\n",
      "\t- Avoid using `tokenizers` before the fork if possible\n",
      "\t- Explicitly set the environment variable TOKENIZERS_PARALLELISM=(true | false)\n",
      "emoji is not installed, thus not converting emoticons or emojis into text. Install emoji: pip3 install emoji==0.6.0\n",
      "Device set to use mps:0\n"
     ]
    }
   ],
   "source": [
    "transformer_pipeline = pipeline(\"sentiment-analysis\", model=\"finiteautomata/bertweet-base-sentiment-analysis\")"
   ]
  },
  {
   "cell_type": "code",
   "execution_count": 64,
   "id": "d4674d85-f50a-4734-a4bf-7adee39b49ca",
   "metadata": {},
   "outputs": [],
   "source": [
    "transformer_labels = []\n",
    "for review in data['reviewText_clean'].values:\n",
    "    sentiment_list = transformer_pipeline(review)\n",
    "    sentiment_label = [sent['label'] for sent in sentiment_list]\n",
    "    transformer_labels.append(sentiment_label)"
   ]
  },
  {
   "cell_type": "code",
   "execution_count": 65,
   "id": "782e02fc-453d-412e-a769-8bf594738833",
   "metadata": {},
   "outputs": [],
   "source": [
    "data['transformer_sentiment_label'] = transformer_labels"
   ]
  },
  {
   "cell_type": "code",
   "execution_count": 67,
   "id": "ab78c752-2dd5-4a6b-9132-8fdeab3b6682",
   "metadata": {},
   "outputs": [
    {
     "data": {
      "text/plain": [
       "transformer_sentiment_label\n",
       "[POS]    57\n",
       "[NEG]    32\n",
       "[NEU]    11\n",
       "Name: count, dtype: int64"
      ]
     },
     "execution_count": 67,
     "metadata": {},
     "output_type": "execute_result"
    }
   ],
   "source": [
    "data['transformer_sentiment_label'].value_counts()"
   ]
  },
  {
   "cell_type": "code",
   "execution_count": 66,
   "id": "33de0531-c195-46c4-84a3-41dcf7d066f3",
   "metadata": {},
   "outputs": [
    {
     "data": {
      "text/plain": [
       "<Axes: xlabel='transformer_sentiment_label'>"
      ]
     },
     "execution_count": 66,
     "metadata": {},
     "output_type": "execute_result"
    },
    {
     "data": {
      "image/png": "[encoded data removed]",
      "text/plain": [
       "<Figure size 640x480 with 1 Axes>"
      ]
     },
     "metadata": {},
     "output_type": "display_data"
    }
   ],
   "source": [
    "data['transformer_sentiment_label'].value_counts().plot.bar()"
   ]
  },
  {
   "cell_type": "code",
   "execution_count": 68,
   "id": "b2431460-019f-4ce5-a432-7a03474d5be2",
   "metadata": {},
   "outputs": [
    {
     "data": {
      "text/html": [
       "<div>\n",
       "<style scoped>\n",
       "    .dataframe tbody tr th:only-of-type {\n",
       "        vertical-align: middle;\n",
       "    }\n",
       "\n",
       "    .dataframe tbody tr th {\n",
       "        vertical-align: top;\n",
       "    }\n",
       "\n",
       "    .dataframe thead th {\n",
       "        text-align: right;\n",
       "    }\n",
       "</style>\n",
       "<table border=\"1\" class=\"dataframe\">\n",
       "  <thead>\n",
       "    <tr style=\"text-align: right;\">\n",
       "      <th></th>\n",
       "      <th>index</th>\n",
       "      <th>reviewText</th>\n",
       "      <th>rating</th>\n",
       "      <th>reviewText_clean</th>\n",
       "      <th>vader_sentiment_score</th>\n",
       "      <th>vader_sentiment_label</th>\n",
       "      <th>transformer_sentiment_score</th>\n",
       "      <th>transformer_sentiment_label</th>\n",
       "    </tr>\n",
       "  </thead>\n",
       "  <tbody>\n",
       "    <tr>\n",
       "      <th>0</th>\n",
       "      <td>11494</td>\n",
       "      <td>Clean and funny. A bit busy with all the diffe...</td>\n",
       "      <td>3</td>\n",
       "      <td>clean and funny a bit busy with all the differ...</td>\n",
       "      <td>0.7684</td>\n",
       "      <td>positive</td>\n",
       "      <td>0.964309</td>\n",
       "      <td>[POS]</td>\n",
       "    </tr>\n",
       "    <tr>\n",
       "      <th>1</th>\n",
       "      <td>984</td>\n",
       "      <td>Alex a sexy hot cop and the PhD candidate. Wha...</td>\n",
       "      <td>4</td>\n",
       "      <td>alex a sexy hot cop and the phd candidate what...</td>\n",
       "      <td>0.9325</td>\n",
       "      <td>positive</td>\n",
       "      <td>0.992297</td>\n",
       "      <td>[POS]</td>\n",
       "    </tr>\n",
       "    <tr>\n",
       "      <th>2</th>\n",
       "      <td>1463</td>\n",
       "      <td>Good thing that this is a free story. I read i...</td>\n",
       "      <td>1</td>\n",
       "      <td>good thing that this is a free story i read it...</td>\n",
       "      <td>0.6740</td>\n",
       "      <td>positive</td>\n",
       "      <td>0.772695</td>\n",
       "      <td>[NEG]</td>\n",
       "    </tr>\n",
       "    <tr>\n",
       "      <th>3</th>\n",
       "      <td>10342</td>\n",
       "      <td>Action, action, action! Equipment keeps gettin...</td>\n",
       "      <td>4</td>\n",
       "      <td>action action action equipment keeps getting b...</td>\n",
       "      <td>0.6652</td>\n",
       "      <td>positive</td>\n",
       "      <td>0.844692</td>\n",
       "      <td>[NEG]</td>\n",
       "    </tr>\n",
       "    <tr>\n",
       "      <th>4</th>\n",
       "      <td>5256</td>\n",
       "      <td>this was hands down the worse book i have ever...</td>\n",
       "      <td>1</td>\n",
       "      <td>this was hands down the worse book i have ever...</td>\n",
       "      <td>-0.4767</td>\n",
       "      <td>negative</td>\n",
       "      <td>0.983339</td>\n",
       "      <td>[NEG]</td>\n",
       "    </tr>\n",
       "    <tr>\n",
       "      <th>...</th>\n",
       "      <td>...</td>\n",
       "      <td>...</td>\n",
       "      <td>...</td>\n",
       "      <td>...</td>\n",
       "      <td>...</td>\n",
       "      <td>...</td>\n",
       "      <td>...</td>\n",
       "      <td>...</td>\n",
       "    </tr>\n",
       "    <tr>\n",
       "      <th>95</th>\n",
       "      <td>1794</td>\n",
       "      <td>Love this author. I have read most of her book...</td>\n",
       "      <td>5</td>\n",
       "      <td>love this author i have read most of her books...</td>\n",
       "      <td>0.7549</td>\n",
       "      <td>positive</td>\n",
       "      <td>0.992738</td>\n",
       "      <td>[POS]</td>\n",
       "    </tr>\n",
       "    <tr>\n",
       "      <th>96</th>\n",
       "      <td>6716</td>\n",
       "      <td>This book was not bad! I like the storyline ! ...</td>\n",
       "      <td>2</td>\n",
       "      <td>this book was not bad i like the storyline  th...</td>\n",
       "      <td>0.1877</td>\n",
       "      <td>positive</td>\n",
       "      <td>0.803788</td>\n",
       "      <td>[POS]</td>\n",
       "    </tr>\n",
       "    <tr>\n",
       "      <th>97</th>\n",
       "      <td>7372</td>\n",
       "      <td>This is part of a series I read and I loved th...</td>\n",
       "      <td>5</td>\n",
       "      <td>this is part of a series i read and i loved th...</td>\n",
       "      <td>0.5994</td>\n",
       "      <td>positive</td>\n",
       "      <td>0.992831</td>\n",
       "      <td>[POS]</td>\n",
       "    </tr>\n",
       "    <tr>\n",
       "      <th>98</th>\n",
       "      <td>5676</td>\n",
       "      <td>Finally a Texas newspaper in Kindle format.Way...</td>\n",
       "      <td>4</td>\n",
       "      <td>finally a texas newspaper in kindle formatway ...</td>\n",
       "      <td>0.1779</td>\n",
       "      <td>positive</td>\n",
       "      <td>0.925178</td>\n",
       "      <td>[POS]</td>\n",
       "    </tr>\n",
       "    <tr>\n",
       "      <th>99</th>\n",
       "      <td>7737</td>\n",
       "      <td>TJ and Jon are very HOT in this book.  Christi...</td>\n",
       "      <td>5</td>\n",
       "      <td>tj and jon are very hot in this book  christin...</td>\n",
       "      <td>0.8686</td>\n",
       "      <td>positive</td>\n",
       "      <td>0.981501</td>\n",
       "      <td>[POS]</td>\n",
       "    </tr>\n",
       "  </tbody>\n",
       "</table>\n",
       "<p>100 rows × 8 columns</p>\n",
       "</div>"
      ],
      "text/plain": [
       "    index                                         reviewText  rating  \\\n",
       "0   11494  Clean and funny. A bit busy with all the diffe...       3   \n",
       "1     984  Alex a sexy hot cop and the PhD candidate. Wha...       4   \n",
       "2    1463  Good thing that this is a free story. I read i...       1   \n",
       "3   10342  Action, action, action! Equipment keeps gettin...       4   \n",
       "4    5256  this was hands down the worse book i have ever...       1   \n",
       "..    ...                                                ...     ...   \n",
       "95   1794  Love this author. I have read most of her book...       5   \n",
       "96   6716  This book was not bad! I like the storyline ! ...       2   \n",
       "97   7372  This is part of a series I read and I loved th...       5   \n",
       "98   5676  Finally a Texas newspaper in Kindle format.Way...       4   \n",
       "99   7737  TJ and Jon are very HOT in this book.  Christi...       5   \n",
       "\n",
       "                                     reviewText_clean  vader_sentiment_score  \\\n",
       "0   clean and funny a bit busy with all the differ...                 0.7684   \n",
       "1   alex a sexy hot cop and the phd candidate what...                 0.9325   \n",
       "2   good thing that this is a free story i read it...                 0.6740   \n",
       "3   action action action equipment keeps getting b...                 0.6652   \n",
       "4   this was hands down the worse book i have ever...                -0.4767   \n",
       "..                                                ...                    ...   \n",
       "95  love this author i have read most of her books...                 0.7549   \n",
       "96  this book was not bad i like the storyline  th...                 0.1877   \n",
       "97  this is part of a series i read and i loved th...                 0.5994   \n",
       "98  finally a texas newspaper in kindle formatway ...                 0.1779   \n",
       "99  tj and jon are very hot in this book  christin...                 0.8686   \n",
       "\n",
       "   vader_sentiment_label  transformer_sentiment_score  \\\n",
       "0               positive                     0.964309   \n",
       "1               positive                     0.992297   \n",
       "2               positive                     0.772695   \n",
       "3               positive                     0.844692   \n",
       "4               negative                     0.983339   \n",
       "..                   ...                          ...   \n",
       "95              positive                     0.992738   \n",
       "96              positive                     0.803788   \n",
       "97              positive                     0.992831   \n",
       "98              positive                     0.925178   \n",
       "99              positive                     0.981501   \n",
       "\n",
       "   transformer_sentiment_label  \n",
       "0                        [POS]  \n",
       "1                        [POS]  \n",
       "2                        [NEG]  \n",
       "3                        [NEG]  \n",
       "4                        [NEG]  \n",
       "..                         ...  \n",
       "95                       [POS]  \n",
       "96                       [POS]  \n",
       "97                       [POS]  \n",
       "98                       [POS]  \n",
       "99                       [POS]  \n",
       "\n",
       "[100 rows x 8 columns]"
      ]
     },
     "execution_count": 68,
     "metadata": {},
     "output_type": "execute_result"
    }
   ],
   "source": [
    "data"
   ]
  },
  {
   "cell_type": "code",
   "execution_count": null,
   "id": "562cda56-9318-4757-a45a-495848e7f5c2",
   "metadata": {},
   "outputs": [],
   "source": []
  }
 ],
 "metadata": {
  "kernelspec": {
   "display_name": "Python 3 (ipykernel)",
   "language": "python",
   "name": "python3"
  },
  "language_info": {
   "codemirror_mode": {
    "name": "ipython",
    "version": 3
   },
   "file_extension": ".py",
   "mimetype": "text/x-python",
   "name": "python",
   "nbconvert_exporter": "python",
   "pygments_lexer": "ipython3",
   "version": "3.11.13"
  }
 },
 "nbformat": 4,
 "nbformat_minor": 5
}
