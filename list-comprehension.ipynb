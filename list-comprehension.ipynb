{
 "cells": [
  {
   "cell_type": "markdown",
   "id": "cdc4c3ab-6270-49d0-94c1-c1a0a7ee9a26",
   "metadata": {},
   "source": [
    "Python List Comprehensions - Exercise #1\n",
    "\n",
    "Create the following three lists: products_on_sale, sale_prices, quantities. They should contain the following values respectively:\n",
    "\n",
    "['Chair_Type_1', 'Chair_Type_2', 'Chair_Type_3', 'Chair_Type_4']\n",
    "\n",
    "[100, 120, 135, 150]\n",
    "\n",
    "[1000, 1500, 1300]\n"
   ]
  },
  {
   "cell_type": "code",
   "execution_count": 1,
   "id": "85fea6ab-639c-4721-ba80-698be77df0ed",
   "metadata": {},
   "outputs": [],
   "source": [
    "products_on_sale = ['Chair_Type_1', 'Chair_Type_2', 'Chair_Type_3', 'Chair_Type_4']\n",
    "sale_prices = [100, 120, 135, 150]\n",
    "quantities = [1000, 1500, 1300]"
   ]
  },
  {
   "cell_type": "markdown",
   "id": "65019ef4-d50b-4a52-8c40-b627df093e05",
   "metadata": {},
   "source": [
    "OLD WAY"
   ]
  },
  {
   "cell_type": "code",
   "execution_count": 2,
   "id": "5792faa1-9d33-47cd-add6-68773608d1e8",
   "metadata": {},
   "outputs": [
    {
     "name": "stdout",
     "output_type": "stream",
     "text": [
      "['Chair_Type_1', 100000]\n",
      "['Chair_Type_1', 150000]\n",
      "['Chair_Type_1', 130000]\n",
      "['Chair_Type_1', 120000]\n",
      "['Chair_Type_1', 180000]\n",
      "['Chair_Type_1', 156000]\n",
      "['Chair_Type_1', 135000]\n",
      "['Chair_Type_1', 202500]\n",
      "['Chair_Type_1', 175500]\n",
      "['Chair_Type_1', 150000]\n",
      "['Chair_Type_1', 225000]\n",
      "['Chair_Type_1', 195000]\n",
      "['Chair_Type_2', 100000]\n",
      "['Chair_Type_2', 150000]\n",
      "['Chair_Type_2', 130000]\n",
      "['Chair_Type_2', 120000]\n",
      "['Chair_Type_2', 180000]\n",
      "['Chair_Type_2', 156000]\n",
      "['Chair_Type_2', 135000]\n",
      "['Chair_Type_2', 202500]\n",
      "['Chair_Type_2', 175500]\n",
      "['Chair_Type_2', 150000]\n",
      "['Chair_Type_2', 225000]\n",
      "['Chair_Type_2', 195000]\n",
      "['Chair_Type_3', 100000]\n",
      "['Chair_Type_3', 150000]\n",
      "['Chair_Type_3', 130000]\n",
      "['Chair_Type_3', 120000]\n",
      "['Chair_Type_3', 180000]\n",
      "['Chair_Type_3', 156000]\n",
      "['Chair_Type_3', 135000]\n",
      "['Chair_Type_3', 202500]\n",
      "['Chair_Type_3', 175500]\n",
      "['Chair_Type_3', 150000]\n",
      "['Chair_Type_3', 225000]\n",
      "['Chair_Type_3', 195000]\n",
      "['Chair_Type_4', 100000]\n",
      "['Chair_Type_4', 150000]\n",
      "['Chair_Type_4', 130000]\n",
      "['Chair_Type_4', 120000]\n",
      "['Chair_Type_4', 180000]\n",
      "['Chair_Type_4', 156000]\n",
      "['Chair_Type_4', 135000]\n",
      "['Chair_Type_4', 202500]\n",
      "['Chair_Type_4', 175500]\n",
      "['Chair_Type_4', 150000]\n",
      "['Chair_Type_4', 225000]\n",
      "['Chair_Type_4', 195000]\n"
     ]
    }
   ],
   "source": [
    "for chair_type in products_on_sale:\n",
    "    for price in sale_prices:\n",
    "        for quantity in quantities:\n",
    "            print ([chair_type, price*quantity])"
   ]
  },
  {
   "cell_type": "markdown",
   "id": "530286ba-20b8-4793-8842-6cdbf37ab490",
   "metadata": {},
   "source": [
    "NEW WAY"
   ]
  },
  {
   "cell_type": "code",
   "execution_count": 5,
   "id": "247807ce-3f1a-42d8-adea-a5ca665c7f18",
   "metadata": {},
   "outputs": [
    {
     "data": {
      "text/plain": [
       "[['Chair_Type_1', 100000],\n",
       " ['Chair_Type_1', 150000],\n",
       " ['Chair_Type_1', 130000],\n",
       " ['Chair_Type_1', 120000],\n",
       " ['Chair_Type_1', 180000],\n",
       " ['Chair_Type_1', 156000],\n",
       " ['Chair_Type_1', 135000],\n",
       " ['Chair_Type_1', 202500],\n",
       " ['Chair_Type_1', 175500],\n",
       " ['Chair_Type_1', 150000],\n",
       " ['Chair_Type_1', 225000],\n",
       " ['Chair_Type_1', 195000],\n",
       " ['Chair_Type_2', 100000],\n",
       " ['Chair_Type_2', 150000],\n",
       " ['Chair_Type_2', 130000],\n",
       " ['Chair_Type_2', 120000],\n",
       " ['Chair_Type_2', 180000],\n",
       " ['Chair_Type_2', 156000],\n",
       " ['Chair_Type_2', 135000],\n",
       " ['Chair_Type_2', 202500],\n",
       " ['Chair_Type_2', 175500],\n",
       " ['Chair_Type_2', 150000],\n",
       " ['Chair_Type_2', 225000],\n",
       " ['Chair_Type_2', 195000],\n",
       " ['Chair_Type_3', 100000],\n",
       " ['Chair_Type_3', 150000],\n",
       " ['Chair_Type_3', 130000],\n",
       " ['Chair_Type_3', 120000],\n",
       " ['Chair_Type_3', 180000],\n",
       " ['Chair_Type_3', 156000],\n",
       " ['Chair_Type_3', 135000],\n",
       " ['Chair_Type_3', 202500],\n",
       " ['Chair_Type_3', 175500],\n",
       " ['Chair_Type_3', 150000],\n",
       " ['Chair_Type_3', 225000],\n",
       " ['Chair_Type_3', 195000],\n",
       " ['Chair_Type_4', 100000],\n",
       " ['Chair_Type_4', 150000],\n",
       " ['Chair_Type_4', 130000],\n",
       " ['Chair_Type_4', 120000],\n",
       " ['Chair_Type_4', 180000],\n",
       " ['Chair_Type_4', 156000],\n",
       " ['Chair_Type_4', 135000],\n",
       " ['Chair_Type_4', 202500],\n",
       " ['Chair_Type_4', 175500],\n",
       " ['Chair_Type_4', 150000],\n",
       " ['Chair_Type_4', 225000],\n",
       " ['Chair_Type_4', 195000]]"
      ]
     },
     "execution_count": 5,
     "metadata": {},
     "output_type": "execute_result"
    }
   ],
   "source": [
    "sales_revenue = [[i, j*k] for i in products_on_sale for j in sale_prices for k in quantities]\n",
    "sales_revenue"
   ]
  },
  {
   "cell_type": "markdown",
   "id": "8a8eb5c5-3aa1-4d90-9b87-3bdfe95f6210",
   "metadata": {},
   "source": [
    "Python List Comprehensions - Exercise #3\n",
    "\n",
    "Use a list comprehension to return a list with all even numbers between 1 and 10 inclusive, multiplied by 10.\n",
    "\n",
    "Please remember to use the print() function to print out the desired output."
   ]
  },
  {
   "cell_type": "code",
   "execution_count": 10,
   "id": "0377ee25-140f-46d8-910e-8b46ff3e078f",
   "metadata": {},
   "outputs": [
    {
     "name": "stdout",
     "output_type": "stream",
     "text": [
      "[20, 40, 60, 80, 100]\n"
     ]
    }
   ],
   "source": [
    "even = [n*10 for n in range(1, 11) if n%2==0]\n",
    "print(even)"
   ]
  },
  {
   "cell_type": "markdown",
   "id": "bb5a8c72-ba2b-4c29-a406-29cf8a54f7af",
   "metadata": {},
   "source": [
    "Python List Comprehensions - Exercise #4\n",
    "\n",
    "We consider the previous answer as the Pythonic way to obtain the output because it involved the use of a list comprehension.\n",
    "\n",
    "Can you devise a method to achieve the same output—returning a list with all even numbers between 1 and 10, inclusive, each \n",
    "\n",
    "multiplied by 10—using a \"non-Pythonic\" approach, specifically without employing list comprehensions?\n",
    "\n",
    "To solve the exercise, start with an empty list named new_list and append the required values to it.\n"
   ]
  },
  {
   "cell_type": "code",
   "execution_count": 12,
   "id": "8b9efbd5-5306-44fa-b568-1c1fcb01b707",
   "metadata": {},
   "outputs": [
    {
     "data": {
      "text/plain": [
       "[20, 40, 60, 80, 100]"
      ]
     },
     "execution_count": 12,
     "metadata": {},
     "output_type": "execute_result"
    }
   ],
   "source": [
    "new_even = []\n",
    "for i in range(1,11):\n",
    "    if(i%2==0):\n",
    "        new_even.append(i*10)\n",
    "new_even"
   ]
  },
  {
   "cell_type": "markdown",
   "id": "4e872f85-a84e-468d-aa38-864f9c12cb0a",
   "metadata": {},
   "source": [
    "Python List Comprehensions - Exercise #5\n",
    "\n",
    "Using list comprehension, return a list that contains the element from range(1, 11) multiplied by 10 if the number is even, and \"None\" if that number is odd.\n",
    "\n",
    "Please use num as an iteration variable name in the required list comprehension.\n"
   ]
  },
  {
   "cell_type": "code",
   "execution_count": 15,
   "id": "df065e90-bba5-4db3-bffc-f8b95868c2a8",
   "metadata": {},
   "outputs": [
    {
     "data": {
      "text/plain": [
       "['None', 20, 'None', 40, 'None', 60, 'None', 80, 'None', 100]"
      ]
     },
     "execution_count": 15,
     "metadata": {},
     "output_type": "execute_result"
    }
   ],
   "source": [
    "nums = [num*10 if num % 2 == 0 else \"None\" for num in range(1,11)]\n",
    "nums"
   ]
  },
  {
   "cell_type": "code",
   "execution_count": null,
   "id": "400faa38-df36-4203-88e3-37c1167f9c12",
   "metadata": {},
   "outputs": [],
   "source": []
  },
  {
   "cell_type": "markdown",
   "id": "44427406-e9a2-42dd-9d6a-ee421ba68936",
   "metadata": {},
   "source": [
    "LAMBDA FUNCTIONS"
   ]
  },
  {
   "cell_type": "markdown",
   "id": "6141da7e-401c-49c6-ba87-bc18a288e6bf",
   "metadata": {},
   "source": [
    "Python Anonymous Functions - Exercise #1\n",
    "\n",
    "Define a function called multiply_by_10 that will return a value ten times bigger than the argument.\n",
    "\n",
    "Apply multiply_by_10 to the argument of 5. Clearly, you should obtain 50.\n",
    "\n",
    "Please remember to use the print() function to print out the desired output.\n",
    "\n"
   ]
  },
  {
   "cell_type": "code",
   "execution_count": 19,
   "id": "b2b8db21-8efe-465f-b270-01a4e4f5a7d7",
   "metadata": {},
   "outputs": [
    {
     "name": "stdout",
     "output_type": "stream",
     "text": [
      "50\n"
     ]
    }
   ],
   "source": [
    "multiply_by_10 = lambda x:x*10\n",
    "print(multiply_by_10(5))"
   ]
  },
  {
   "cell_type": "code",
   "execution_count": null,
   "id": "24182aa0-f054-4e8b-b40a-504c05c00cdb",
   "metadata": {},
   "outputs": [],
   "source": []
  },
  {
   "cell_type": "markdown",
   "id": "871994f7-2002-400f-803a-d8796c43557b",
   "metadata": {},
   "source": [
    "Python Anonymous Functions - Exercise #2\n",
    "\n",
    "Using the print() function, write a single line of code that creates and executes a lambda function, returning a value ten times its argument. Use 7 as the input."
   ]
  },
  {
   "cell_type": "code",
   "execution_count": 21,
   "id": "1113c0be-e96d-49af-9a38-de9a35d3b9b3",
   "metadata": {},
   "outputs": [
    {
     "name": "stdout",
     "output_type": "stream",
     "text": [
      "70\n"
     ]
    }
   ],
   "source": [
    "print((lambda x : x*10)(7))"
   ]
  },
  {
   "cell_type": "code",
   "execution_count": null,
   "id": "a4438ec5-1ebf-4c80-9326-7d4ea2e28ac6",
   "metadata": {},
   "outputs": [],
   "source": []
  },
  {
   "cell_type": "markdown",
   "id": "8e2441d2-74e7-43f7-980b-0ca03503791c",
   "metadata": {},
   "source": [
    "Python Anonymous Functions - Exercise #3\n",
    "\n",
    "Define a Lambda function named product_xy that returns the product of two parameters, x and y. Execute it with arguments 4 and 20, respectively.\n"
   ]
  },
  {
   "cell_type": "code",
   "execution_count": 25,
   "id": "ab793cd3-4d0e-40be-b3b8-c98e4820782a",
   "metadata": {},
   "outputs": [
    {
     "name": "stdout",
     "output_type": "stream",
     "text": [
      "80\n"
     ]
    }
   ],
   "source": [
    "product_xy = lambda x,y : x*y\n",
    "print(product_xy(4,20))"
   ]
  },
  {
   "cell_type": "code",
   "execution_count": null,
   "id": "4929d4e3-51ec-4b33-bd0e-6a17da812de7",
   "metadata": {},
   "outputs": [],
   "source": []
  }
 ],
 "metadata": {
  "kernelspec": {
   "display_name": "Python [conda env:base] *",
   "language": "python",
   "name": "conda-base-py"
  },
  "language_info": {
   "codemirror_mode": {
    "name": "ipython",
    "version": 3
   },
   "file_extension": ".py",
   "mimetype": "text/x-python",
   "name": "python",
   "nbconvert_exporter": "python",
   "pygments_lexer": "ipython3",
   "version": "3.13.5"
  }
 },
 "nbformat": 4,
 "nbformat_minor": 5
}
