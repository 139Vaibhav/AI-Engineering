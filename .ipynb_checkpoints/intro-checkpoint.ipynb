{
 "cells": [
  {
   "cell_type": "code",
   "execution_count": 1,
   "id": "4925ba0f-3da9-497b-88c0-f0154c5e62c1",
   "metadata": {},
   "outputs": [
    {
     "name": "stdout",
     "output_type": "stream",
     "text": [
      "x is  8\n"
     ]
    }
   ],
   "source": [
    "def get_sum(a, b):\n",
    "    return a+b\n",
    "\n",
    "x=get_sum(3,5)\n",
    "print(f\"x is \", x)"
   ]
  },
  {
   "cell_type": "markdown",
   "id": "6e1d0de5-1e83-4b83-b5a9-dce256eef232",
   "metadata": {},
   "source": [
    "This is readme file"
   ]
  },
  {
   "cell_type": "code",
   "execution_count": 2,
   "id": "fcbf4071-14da-413d-9b0c-02a61364d6f9",
   "metadata": {},
   "outputs": [
    {
     "name": "stdout",
     "output_type": "stream",
     "text": [
      "10 Dollars\n"
     ]
    }
   ],
   "source": [
    "y = 10\n",
    "print(str(y) + f\" Dollars\")"
   ]
  },
  {
   "cell_type": "code",
   "execution_count": 3,
   "id": "f1adc28a-e6c5-4b63-a825-d3da89430e2a",
   "metadata": {},
   "outputs": [
    {
     "name": "stdout",
     "output_type": "stream",
     "text": [
      "10\n"
     ]
    }
   ],
   "source": [
    "x=10\n",
    "print(x)"
   ]
  },
  {
   "cell_type": "code",
   "execution_count": 4,
   "id": "5654dbf8-9fa8-421b-b180-302d8bb7acba",
   "metadata": {},
   "outputs": [],
   "source": [
    "list = [1, 3, 5, 2, 4, 6]"
   ]
  },
  {
   "cell_type": "code",
   "execution_count": 5,
   "id": "613f498c-8730-4036-8a3b-05f6ca6755da",
   "metadata": {},
   "outputs": [
    {
     "data": {
      "text/plain": [
       "[2, 4, 6]"
      ]
     },
     "execution_count": 5,
     "metadata": {},
     "output_type": "execute_result"
    }
   ],
   "source": [
    "list[-3:]"
   ]
  },
  {
   "cell_type": "code",
   "execution_count": 6,
   "id": "f846e2b9-69c5-4dbc-a8b7-550b48b56f41",
   "metadata": {},
   "outputs": [
    {
     "data": {
      "text/plain": [
       "2"
      ]
     },
     "execution_count": 6,
     "metadata": {},
     "output_type": "execute_result"
    }
   ],
   "source": [
    "list.index(5)"
   ]
  },
  {
   "cell_type": "code",
   "execution_count": 7,
   "id": "becd444f-e803-4e9c-812f-01d2e45f36e0",
   "metadata": {},
   "outputs": [],
   "source": [
    "new_list = [7,8,9,10]"
   ]
  },
  {
   "cell_type": "markdown",
   "id": "cf37829a-a88e-4697-926d-2634538681d8",
   "metadata": {},
   "source": [
    "Add the new list to the old list"
   ]
  },
  {
   "cell_type": "code",
   "execution_count": 8,
   "id": "73424484-cd2a-48ee-bf82-2bb02828c08f",
   "metadata": {},
   "outputs": [
    {
     "data": {
      "text/plain": [
       "[[1, 3, 5, 2, 4, 6], [7, 8, 9, 10]]"
      ]
     },
     "execution_count": 8,
     "metadata": {},
     "output_type": "execute_result"
    }
   ],
   "source": [
    "big_list = [list, new_list]\n",
    "big_list"
   ]
  },
  {
   "cell_type": "code",
   "execution_count": 9,
   "id": "4c639984-4713-4d9c-b088-2e14ae5a17db",
   "metadata": {},
   "outputs": [],
   "source": [
    "list.sort()"
   ]
  },
  {
   "cell_type": "code",
   "execution_count": 10,
   "id": "e284c34b-0789-454f-ab18-6837fff1f83b",
   "metadata": {},
   "outputs": [
    {
     "data": {
      "text/plain": [
       "[1, 2, 3, 4, 5, 6]"
      ]
     },
     "execution_count": 10,
     "metadata": {},
     "output_type": "execute_result"
    }
   ],
   "source": [
    "list"
   ]
  },
  {
   "cell_type": "code",
   "execution_count": 11,
   "id": "15d30324-31a5-4809-ba27-0e0fd92fd648",
   "metadata": {},
   "outputs": [],
   "source": [
    "list = [1, 3, 5, 2, 4, 6]"
   ]
  },
  {
   "cell_type": "code",
   "execution_count": 12,
   "id": "db700200-0956-4c9c-908a-e7e83426a34a",
   "metadata": {},
   "outputs": [
    {
     "data": {
      "text/plain": [
       "[1, 2, 3, 4, 5, 6]"
      ]
     },
     "execution_count": 12,
     "metadata": {},
     "output_type": "execute_result"
    }
   ],
   "source": [
    "list.sort()\n",
    "list"
   ]
  },
  {
   "cell_type": "code",
   "execution_count": 14,
   "id": "3d4caa80-10b9-4749-b112-8f6f62ba3c16",
   "metadata": {},
   "outputs": [
    {
     "data": {
      "text/plain": [
       "[6, 5, 4, 3, 2, 1]"
      ]
     },
     "execution_count": 14,
     "metadata": {},
     "output_type": "execute_result"
    }
   ],
   "source": [
    "list.sort(reverse=True)\n",
    "list"
   ]
  },
  {
   "cell_type": "code",
   "execution_count": 16,
   "id": "34808a40-c772-43ea-b850-05d16ac153df",
   "metadata": {},
   "outputs": [
    {
     "data": {
      "text/plain": [
       "[100, 115]"
      ]
     },
     "execution_count": 16,
     "metadata": {},
     "output_type": "execute_result"
    }
   ],
   "source": [
    "Numbers = [15, 40, 50, 100, 115, 140]\n",
    "Numbers[-3:-1]"
   ]
  },
  {
   "cell_type": "code",
   "execution_count": 17,
   "id": "90eaec93-225c-4705-9c6c-b6d8fd4241d0",
   "metadata": {},
   "outputs": [],
   "source": [
    "Menu = {'meal_1':'Spaghetti', 'meal_2':'Fries', 'meal_3':'Hamburger', 'meal_4':'Lasagna'}"
   ]
  },
  {
   "cell_type": "code",
   "execution_count": 24,
   "id": "7dda9154-9240-4116-b565-8dcac2fbc2e4",
   "metadata": {},
   "outputs": [
    {
     "data": {
      "text/plain": [
       "{'meal_1': 'Spaghetti',\n",
       " 'meal_2': 'Fries',\n",
       " 'meal_3': 'Hamburger',\n",
       " 'meal_4': 'Lasagna',\n",
       " 'meal_5': 'Soup'}"
      ]
     },
     "execution_count": 24,
     "metadata": {},
     "output_type": "execute_result"
    }
   ],
   "source": [
    "Menu['meal_5']= 'Soup'\n",
    "Menu"
   ]
  },
  {
   "cell_type": "code",
   "execution_count": 25,
   "id": "af0b4a9e-67a7-4126-8fcb-92e374776faf",
   "metadata": {},
   "outputs": [],
   "source": [
    "Dessert = ['Pancakes', 'Ice-cream', 'Tiramisu']\n"
   ]
  },
  {
   "cell_type": "code",
   "execution_count": 26,
   "id": "4df61a12-8429-4908-83b3-f21d5b233df6",
   "metadata": {},
   "outputs": [
    {
     "data": {
      "text/plain": [
       "{'meal_1': 'Spaghetti',\n",
       " 'meal_2': 'Fries',\n",
       " 'meal_3': 'Hamburger',\n",
       " 'meal_4': 'Lasagna',\n",
       " 'meal_5': 'Soup',\n",
       " 'meal_6': ['Pancakes', 'Ice-cream', 'Tiramisu']}"
      ]
     },
     "execution_count": 26,
     "metadata": {},
     "output_type": "execute_result"
    }
   ],
   "source": [
    "Menu['meal_6']=Dessert \n",
    "Menu"
   ]
  },
  {
   "cell_type": "code",
   "execution_count": 29,
   "id": "d97bedce-a707-40ab-9903-fa62a3e6c9ac",
   "metadata": {},
   "outputs": [],
   "source": [
    "Price_list={}\n",
    "Price_list[Menu['meal_1']]=10\n",
    "Price_list[Menu['meal_2']]=5\n",
    "Price_list[Menu['meal_3']]=8\n",
    "Price_list[Menu['meal_4']]=12\n",
    "Price_list[Menu['meal_5']]=5"
   ]
  },
  {
   "cell_type": "code",
   "execution_count": 32,
   "id": "095a7e7e-bfcb-4177-a499-3a0df54b0dd5",
   "metadata": {},
   "outputs": [
    {
     "name": "stdout",
     "output_type": "stream",
     "text": [
      "0, 1, 2, 3, 4, 5, 6, 7, 8, 9, "
     ]
    }
   ],
   "source": [
    "digits = [0,1,2,3,4,5,6,7,8,9]\n",
    "\n",
    "for d in digits:\n",
    "    print (d, end=', ')"
   ]
  },
  {
   "cell_type": "code",
   "execution_count": 38,
   "id": "af1e4bc2-aaef-4715-95d5-24bae1a783bf",
   "metadata": {},
   "outputs": [
    {
     "name": "stdout",
     "output_type": "stream",
     "text": [
      "0, 1, 2, 3, 4, 5, 6, 7, 8, 9, "
     ]
    }
   ],
   "source": [
    "i=0\n",
    "while i < 10:\n",
    "    print(i, end=\", \")\n",
    "    i+=1"
   ]
  },
  {
   "cell_type": "markdown",
   "id": "59df869e-ec1e-410f-a8f8-a48d9353aa51",
   "metadata": {},
   "source": [
    "Range Function"
   ]
  },
  {
   "cell_type": "code",
   "execution_count": 39,
   "id": "8938f976-7704-40ff-9634-a9ed40477556",
   "metadata": {},
   "outputs": [
    {
     "data": {
      "text/plain": [
       "range(0, 10)"
      ]
     },
     "execution_count": 39,
     "metadata": {},
     "output_type": "execute_result"
    }
   ],
   "source": [
    "range(10)"
   ]
  },
  {
   "cell_type": "code",
   "execution_count": 1,
   "id": "c75f61ef-c999-46d7-968f-9e78eb80580a",
   "metadata": {},
   "outputs": [
    {
     "data": {
      "text/plain": [
       "[0, 1, 2, 3, 4, 5, 6, 7, 8, 9]"
      ]
     },
     "execution_count": 1,
     "metadata": {},
     "output_type": "execute_result"
    }
   ],
   "source": [
    "x = list(range(10))\n",
    "x"
   ]
  },
  {
   "cell_type": "code",
   "execution_count": 4,
   "id": "06295ad0-2ee9-44c6-9485-a62c4a7bcf65",
   "metadata": {},
   "outputs": [
    {
     "data": {
      "text/plain": [
       "[3, 4, 5, 6]"
      ]
     },
     "execution_count": 4,
     "metadata": {},
     "output_type": "execute_result"
    }
   ],
   "source": [
    "list(range(3,7))"
   ]
  },
  {
   "cell_type": "code",
   "execution_count": 5,
   "id": "2a54913d-0cda-4b1b-9b1d-a16913f331a9",
   "metadata": {},
   "outputs": [
    {
     "data": {
      "text/plain": [
       "[3, 5]"
      ]
     },
     "execution_count": 5,
     "metadata": {},
     "output_type": "execute_result"
    }
   ],
   "source": [
    "list(range(3,7,2))"
   ]
  },
  {
   "cell_type": "code",
   "execution_count": 6,
   "id": "303623f6-15a6-4cbf-92bf-0400c07be2ac",
   "metadata": {},
   "outputs": [],
   "source": [
    "x = [1,6,2,4,9,7,0]"
   ]
  },
  {
   "cell_type": "code",
   "execution_count": 7,
   "id": "7df6d7da-234b-466a-ace3-5a21fd4d6cf3",
   "metadata": {},
   "outputs": [
    {
     "name": "stdout",
     "output_type": "stream",
     "text": [
      "1 6 2 4 9 7 0 "
     ]
    }
   ],
   "source": [
    "for item in x:\n",
    "    print(item, end=\" \")"
   ]
  },
  {
   "cell_type": "code",
   "execution_count": 8,
   "id": "bd84c8d3-55df-4623-a41d-14db038f7ddf",
   "metadata": {},
   "outputs": [
    {
     "name": "stdout",
     "output_type": "stream",
     "text": [
      "1 6 2 4 9 7 0 "
     ]
    }
   ],
   "source": [
    "for item in range(len(x)):\n",
    "    print(x[item], end=\" \")"
   ]
  },
  {
   "cell_type": "code",
   "execution_count": 9,
   "id": "79338ed4-53b1-43a7-a4a8-12b7500b8c8b",
   "metadata": {},
   "outputs": [
    {
     "name": "stdout",
     "output_type": "stream",
     "text": [
      "10\n",
      "20\n",
      "30\n",
      "40\n",
      "50\n",
      "60\n"
     ]
    }
   ],
   "source": [
    "n = [1,2,3,4,5,6]\n",
    "for i in n:\n",
    "    print(i*10)"
   ]
  },
  {
   "cell_type": "code",
   "execution_count": 11,
   "id": "6d8812ce-b4ce-4122-82b7-3733abd12814",
   "metadata": {},
   "outputs": [],
   "source": [
    "nums = [1,35,12,24,31,51,70,100]\n",
    "def count():\n",
    "    x = 0\n",
    "    cnt=0\n",
    "    while(x < len(nums)):\n",
    "        if(nums[x] < 20):\n",
    "            cnt+=1;\n",
    "        x+=1\n",
    "    return cnt"
   ]
  },
  {
   "cell_type": "code",
   "execution_count": 12,
   "id": "b25ba303-1b52-4020-afc3-fcc06f47113f",
   "metadata": {},
   "outputs": [
    {
     "name": "stdout",
     "output_type": "stream",
     "text": [
      "2\n"
     ]
    }
   ],
   "source": [
    "print(count())"
   ]
  },
  {
   "cell_type": "code",
   "execution_count": 16,
   "id": "6f1810ee-0bf1-4660-8441-461d8783c875",
   "metadata": {},
   "outputs": [
    {
     "name": "stdout",
     "output_type": "stream",
     "text": [
      "box_of_spaghetti 4\n",
      "lasagna 5\n",
      "hamburger 2\n"
     ]
    }
   ],
   "source": [
    "prices = {\n",
    "    \"box_of_spaghetti\" : 4,\n",
    "    \"lasagna\"  : 5,\n",
    "    \"hamburger\" : 2\n",
    "   }\n",
    "quantity = {\n",
    "    \"box_of_spaghetti\" : 6,\n",
    "    \"lasagna\"  : 10,\n",
    "    \"hamburger\" : 0\n",
    "    }\n",
    "\n",
    "for i in prices:\n",
    "    print(i + ' ' + str(prices[i]))"
   ]
  }
 ],
 "metadata": {
  "kernelspec": {
   "display_name": "Python [conda env:base] *",
   "language": "python",
   "name": "conda-base-py"
  },
  "language_info": {
   "codemirror_mode": {
    "name": "ipython",
    "version": 3
   },
   "file_extension": ".py",
   "mimetype": "text/x-python",
   "name": "python",
   "nbconvert_exporter": "python",
   "pygments_lexer": "ipython3",
   "version": "3.13.5"
  }
 },
 "nbformat": 4,
 "nbformat_minor": 5
}
